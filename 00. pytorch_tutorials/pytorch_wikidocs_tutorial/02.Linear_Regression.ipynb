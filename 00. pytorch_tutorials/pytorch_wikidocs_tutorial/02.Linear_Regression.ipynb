{
 "cells": [
  {
   "cell_type": "code",
   "execution_count": 94,
   "metadata": {},
   "outputs": [],
   "source": [
    "import torch\n",
    "# import torch.nn as nn\n",
    "# import torch.nn.functional as F\n",
    "import torch.optim as optim"
   ]
  },
  {
   "cell_type": "code",
   "execution_count": 3,
   "metadata": {
    "scrolled": false
   },
   "outputs": [
    {
     "name": "stdout",
     "output_type": "stream",
     "text": [
      "tensor([[1.],\n",
      "        [2.],\n",
      "        [3.]])\n",
      "torch.Size([3, 1])\n"
     ]
    }
   ],
   "source": [
    "torch.manual_seed(1)\n",
    "\n",
    "x_train = torch.FloatTensor([[1], [2], [3]])\n",
    "y_train = torch.FloatTensor([[2], [4], [6]])\n",
    "print(x_train)\n",
    "print(x_train.shape)"
   ]
  },
  {
   "cell_type": "code",
   "execution_count": 23,
   "metadata": {},
   "outputs": [
    {
     "data": {
      "text/plain": [
       "tensor([0.], requires_grad=True)"
      ]
     },
     "execution_count": 23,
     "metadata": {},
     "output_type": "execute_result"
    }
   ],
   "source": [
    "# requires_grad=True -> 학습을 통해 계속 값이 변경되는 변수임 \n",
    "#                    -> 연산시 기울기(=미분값) 저장함\n",
    "W = torch.zeros(1, requires_grad=True) \n",
    "W"
   ]
  },
  {
   "cell_type": "code",
   "execution_count": 24,
   "metadata": {},
   "outputs": [
    {
     "data": {
      "text/plain": [
       "tensor([0.], requires_grad=True)"
      ]
     },
     "execution_count": 24,
     "metadata": {},
     "output_type": "execute_result"
    }
   ],
   "source": [
    "b = torch.zeros(1, requires_grad=True)\n",
    "b"
   ]
  },
  {
   "cell_type": "code",
   "execution_count": 25,
   "metadata": {},
   "outputs": [
    {
     "data": {
      "text/plain": [
       "tensor([[0.],\n",
       "        [0.],\n",
       "        [0.]], grad_fn=<AddBackward0>)"
      ]
     },
     "execution_count": 25,
     "metadata": {},
     "output_type": "execute_result"
    }
   ],
   "source": [
    "hypothesis = x_train * W + b\n",
    "hypothesis"
   ]
  },
  {
   "cell_type": "code",
   "execution_count": 26,
   "metadata": {},
   "outputs": [
    {
     "data": {
      "text/plain": [
       "tensor(18.6667, grad_fn=<MeanBackward0>)"
      ]
     },
     "execution_count": 26,
     "metadata": {},
     "output_type": "execute_result"
    }
   ],
   "source": [
    "cost = torch.mean((hypothesis - y_train) ** 2)\n",
    "cost"
   ]
  },
  {
   "cell_type": "code",
   "execution_count": 27,
   "metadata": {},
   "outputs": [],
   "source": [
    "optimizer = optim.SGD([W,b], lr=0.01)\n",
    "\n",
    "# gradient를 0으로 초기화\n",
    "optimizer.zero_grad() \n",
    "# 비용 함수를 미분하여 gradient 계산\n",
    "cost.backward() \n",
    "# W와 b를 업데이트\n",
    "optimizer.step() "
   ]
  },
  {
   "cell_type": "markdown",
   "metadata": {},
   "source": [
    "### linear regression model 만들기"
   ]
  },
  {
   "cell_type": "code",
   "execution_count": 39,
   "metadata": {},
   "outputs": [
    {
     "name": "stdout",
     "output_type": "stream",
     "text": [
      "Epoch    0 W: 0.186667 b: 0.080000 cost: 18.666666\n",
      "Epoch   50 W: 1.709015 b: 0.650169 cost: 0.061424\n",
      "Epoch  100 W: 1.745691 b: 0.578072 cost: 0.048171\n",
      "Epoch  150 W: 1.774536 b: 0.512534 cost: 0.037866\n",
      "Epoch  200 W: 1.800099 b: 0.454421 cost: 0.029767\n",
      "Epoch  250 W: 1.822764 b: 0.402898 cost: 0.023399\n",
      "Epoch  300 W: 1.842860 b: 0.357217 cost: 0.018394\n",
      "Epoch  350 W: 1.860677 b: 0.316715 cost: 0.014459\n",
      "Epoch  400 W: 1.876473 b: 0.280805 cost: 0.011366\n",
      "Epoch  450 W: 1.890479 b: 0.248967 cost: 0.008935\n"
     ]
    }
   ],
   "source": [
    "x_train = torch.FloatTensor([[1], [2], [3]])\n",
    "y_train = torch.FloatTensor([[2], [4], [6]])\n",
    "\n",
    "W = torch.zeros(1, requires_grad=True)\n",
    "b = torch.zeros(1, requires_grad=True)\n",
    "\n",
    "optimizer = optim.SGD([W, b], lr=0.01)\n",
    "\n",
    "EPOCHS = 500\n",
    "for i in range(EPOCHS):\n",
    "    y_hat = W*x_train + b # forwarding\n",
    "    cost = torch.mean((y_hat - y_train) ** 2)\n",
    "    \n",
    "    optimizer.zero_grad()\n",
    "    cost.backward()\n",
    "    optimizer.step()\n",
    "    if i % 50 == 0:\n",
    "        print('Epoch {:4d} W: {:3f} b: {:3f} cost: {:3f}'.format(\n",
    "            i, W.item(), b.item(), cost.item()))\n",
    "    "
   ]
  },
  {
   "cell_type": "markdown",
   "metadata": {},
   "source": [
    "### 자동 미분(Autograd) 실습하기\n",
    "- z = 2w**2+5\n"
   ]
  },
  {
   "cell_type": "code",
   "execution_count": 41,
   "metadata": {},
   "outputs": [],
   "source": [
    "w = torch.tensor(2.0, requires_grad=True)\n",
    "y = w**2\n",
    "z = 2*y + 5"
   ]
  },
  {
   "cell_type": "code",
   "execution_count": 42,
   "metadata": {},
   "outputs": [],
   "source": [
    "z.backward()"
   ]
  },
  {
   "cell_type": "code",
   "execution_count": 43,
   "metadata": {},
   "outputs": [
    {
     "name": "stdout",
     "output_type": "stream",
     "text": [
      "수식을 w로 미분한 값 : 8.0\n"
     ]
    }
   ],
   "source": [
    "print('수식을 w로 미분한 값 : {}'.format(w.grad))"
   ]
  },
  {
   "cell_type": "markdown",
   "metadata": {},
   "source": [
    "### 다중 선형 회귀(Multivariable Linear regression)\n",
    "\n",
    "- H(x)=w1x1+w2x2+w3x3+b"
   ]
  },
  {
   "cell_type": "code",
   "execution_count": 46,
   "metadata": {},
   "outputs": [],
   "source": [
    "x1_train = torch.FloatTensor([[73], [93], [89], [96], [73]])\n",
    "x2_train = torch.FloatTensor([[80], [88], [91], [98], [66]])\n",
    "x3_train = torch.FloatTensor([[75], [93], [90], [100], [70]])\n",
    "y_train = torch.FloatTensor([[152], [185], [180], [196], [142]])"
   ]
  },
  {
   "cell_type": "code",
   "execution_count": 48,
   "metadata": {},
   "outputs": [],
   "source": [
    "w1 = torch.zeros(1, requires_grad=True)\n",
    "w2 = torch.zeros(1, requires_grad=True)\n",
    "w3 = torch.zeros(1, requires_grad=True)\n",
    "b = torch.zeros(1, requires_grad=True)"
   ]
  },
  {
   "cell_type": "code",
   "execution_count": 50,
   "metadata": {
    "scrolled": true
   },
   "outputs": [
    {
     "name": "stdout",
     "output_type": "stream",
     "text": [
      "epoch:    0 loss: 29661.801\n",
      "epoch:   50 loss: 1.598\n",
      "epoch:  100 loss: 1.564\n",
      "epoch:  150 loss: 1.530\n",
      "epoch:  200 loss: 1.498\n",
      "epoch:  250 loss: 1.466\n",
      "epoch:  300 loss: 1.435\n",
      "epoch:  350 loss: 1.405\n",
      "epoch:  400 loss: 1.376\n",
      "epoch:  450 loss: 1.347\n",
      "epoch:  500 loss: 1.320\n"
     ]
    }
   ],
   "source": [
    "optimizer = optim.SGD([w1,w2,w3,b], lr=1e-5)\n",
    "\n",
    "EPOCHS = 500\n",
    "for i in range(EPOCHS+1):\n",
    "    y_hat = x1_train*w1 + x2_train*w2 + x3_train*w3 + b\n",
    "    mse_loss = torch.mean((y_hat - y_train) ** 2)\n",
    "    \n",
    "    optimizer.zero_grad()\n",
    "    mse_loss.backward()\n",
    "    optimizer.step()\n",
    "    \n",
    "    if i % 50 == 0:\n",
    "        print(\"epoch: {:4d} loss: {:.3f}\".format(i, mse_loss.item()))\n",
    "    "
   ]
  },
  {
   "cell_type": "markdown",
   "metadata": {},
   "source": [
    "### 벡터와 행렬 연산으로 바꾸기\n",
    "- 곱을 내적으로 표현하기\n",
    "- H(X) = X*W + b   ... 내적"
   ]
  },
  {
   "cell_type": "code",
   "execution_count": 60,
   "metadata": {},
   "outputs": [
    {
     "name": "stdout",
     "output_type": "stream",
     "text": [
      "torch.Size([5, 3]) torch.Size([5, 1])\n"
     ]
    }
   ],
   "source": [
    "x_train  =  torch.FloatTensor([[73,  80,  75], \n",
    "                               [93,  88,  93], \n",
    "                               [89,  91,  90], \n",
    "                               [96,  98,  100],   \n",
    "                               [73,  66,  70]])  \n",
    "y_train  =  torch.FloatTensor([[152],  [185],  [180],  [196],  [142]])\n",
    "print(x_train.shape, y_train.shape)"
   ]
  },
  {
   "cell_type": "code",
   "execution_count": 62,
   "metadata": {},
   "outputs": [
    {
     "name": "stdout",
     "output_type": "stream",
     "text": [
      "EPOOCH:   0 loss: 29661.8008\n",
      "EPOOCH:  50 loss: 1.5980\n",
      "EPOOCH: 100 loss: 1.5636\n",
      "EPOOCH: 150 loss: 1.5302\n",
      "EPOOCH: 200 loss: 1.4976\n",
      "EPOOCH: 250 loss: 1.4659\n",
      "EPOOCH: 300 loss: 1.4350\n",
      "EPOOCH: 350 loss: 1.4050\n",
      "EPOOCH: 400 loss: 1.3757\n",
      "EPOOCH: 450 loss: 1.3472\n",
      "EPOOCH: 500 loss: 1.3195\n"
     ]
    }
   ],
   "source": [
    "w = torch.zeros(3,1, requires_grad=True)\n",
    "b = torch.zeros(1, requires_grad=True)\n",
    "\n",
    "optimizer = optim.SGD([w,b], lr = 1e-5)\n",
    "\n",
    "EPOCHS = 500\n",
    "for i in range(EPOCHS + 1):\n",
    "    y_hat = x_train.matmul(w) + b\n",
    "    mse = torch.mean((y_hat - y_train) ** 2)\n",
    "    optimizer.zero_grad()\n",
    "    mse.backward()\n",
    "    optimizer.step()\n",
    "    \n",
    "    if i % 50 == 0:\n",
    "        print(\"EPOOCH: {:3d} loss: {:.4f}\".format(i, mse.item()))"
   ]
  },
  {
   "cell_type": "markdown",
   "metadata": {},
   "source": [
    "### nn.Module로 구현하는 선형 회귀\n",
    "- model = nn.Linear(input_dim, output_dim)\n",
    "- mse = F.mse_loss(prediction, y_train)"
   ]
  },
  {
   "cell_type": "code",
   "execution_count": 107,
   "metadata": {},
   "outputs": [],
   "source": [
    "import torch\n",
    "import torch.nn as nn\n",
    "import torch.nn.functional as F\n",
    "import torch.optim as optim"
   ]
  },
  {
   "cell_type": "code",
   "execution_count": 103,
   "metadata": {},
   "outputs": [],
   "source": [
    "x_train = torch.FloatTensor([[1], [2], [3]])\n",
    "y_train = torch.FloatTensor([[2], [4], [6]])"
   ]
  },
  {
   "cell_type": "code",
   "execution_count": 104,
   "metadata": {},
   "outputs": [
    {
     "name": "stdout",
     "output_type": "stream",
     "text": [
      "[Parameter containing:\n",
      "tensor([[0.9960]], requires_grad=True), Parameter containing:\n",
      "tensor([0.8016], requires_grad=True)]\n"
     ]
    }
   ],
   "source": [
    "model = nn.Linear(1,1)\n",
    "print(list(model.parameters())) # w와 b가 랜덤으로 초기화됨"
   ]
  },
  {
   "cell_type": "code",
   "execution_count": 112,
   "metadata": {
    "scrolled": true
   },
   "outputs": [
    {
     "name": "stdout",
     "output_type": "stream",
     "text": [
      "EPOOCH:   0 loss: 0.0140\n",
      "EPOOCH:  50 loss: 0.0110\n",
      "EPOOCH: 100 loss: 0.0086\n",
      "EPOOCH: 150 loss: 0.0068\n",
      "EPOOCH: 200 loss: 0.0053\n",
      "EPOOCH: 250 loss: 0.0042\n",
      "EPOOCH: 300 loss: 0.0033\n",
      "EPOOCH: 350 loss: 0.0026\n",
      "EPOOCH: 400 loss: 0.0020\n",
      "EPOOCH: 450 loss: 0.0016\n",
      "EPOOCH: 500 loss: 0.0013\n"
     ]
    }
   ],
   "source": [
    "optimizer = optim.SGD(model.parameters(), lr=0.01)\n",
    "\n",
    "EPOCHS = 500\n",
    "for i in range(EPOCHS + 1):\n",
    "    y_hat = model(x_train)\n",
    "    mse = F.mse_loss(y_hat, y_train)\n",
    "    \n",
    "    optimizer.zero_grad()\n",
    "    mse.backward()\n",
    "    optimizer.step()\n",
    "    \n",
    "    if i % 50 == 0:\n",
    "        print(\"EPOOCH: {:3d} loss: {:.4f}\".format(i, mse.item()))"
   ]
  },
  {
   "cell_type": "code",
   "execution_count": 113,
   "metadata": {},
   "outputs": [
    {
     "name": "stdout",
     "output_type": "stream",
     "text": [
      "test_x가 4일 때의 예측값 : tensor([[7.9291]], grad_fn=<AddmmBackward>)\n"
     ]
    }
   ],
   "source": [
    "test_x =  torch.FloatTensor([[4.0]])\n",
    "pred_y = model(test_x)\n",
    "print(\"test_x가 4일 때의 예측값 :\", pred_y) "
   ]
  },
  {
   "cell_type": "code",
   "execution_count": 116,
   "metadata": {},
   "outputs": [
    {
     "data": {
      "text/plain": [
       "[Parameter containing:\n",
       " tensor([[1.9589]], requires_grad=True),\n",
       " Parameter containing:\n",
       " tensor([0.0934], requires_grad=True)]"
      ]
     },
     "execution_count": 116,
     "metadata": {},
     "output_type": "execute_result"
    }
   ],
   "source": [
    "list(model.parameters())"
   ]
  },
  {
   "cell_type": "markdown",
   "metadata": {},
   "source": [
    "### nn.Module로 다중 선형 회귀 구현하기"
   ]
  },
  {
   "cell_type": "code",
   "execution_count": 118,
   "metadata": {},
   "outputs": [],
   "source": [
    "x_train = torch.FloatTensor([[73, 80, 75],\n",
    "                             [93, 88, 93],\n",
    "                             [89, 91, 90],\n",
    "                             [96, 98, 100],\n",
    "                             [73, 66, 70]])\n",
    "y_train = torch.FloatTensor([[152], [185], [180], [196], [142]])"
   ]
  },
  {
   "cell_type": "code",
   "execution_count": 122,
   "metadata": {},
   "outputs": [
    {
     "name": "stdout",
     "output_type": "stream",
     "text": [
      "EPOOCH:   0 loss: 47335.7109\n",
      "EPOOCH: 200 loss: 1.8672\n",
      "EPOOCH: 400 loss: 1.7984\n",
      "EPOOCH: 600 loss: 1.7356\n",
      "EPOOCH: 800 loss: 1.6783\n",
      "EPOOCH: 1000 loss: 1.6259\n"
     ]
    }
   ],
   "source": [
    "model = nn.Linear(3,1)\n",
    "optimizer = optim.SGD(model.parameters(), lr=1e-5)\n",
    "\n",
    "EPOCHS = 1000\n",
    "for i in range(EPOCHS+1):\n",
    "    y_hat = model(x_train)\n",
    "    loss = F.mse_loss(y_hat, y_train)\n",
    "    optimizer.zero_grad()\n",
    "    loss.backward()\n",
    "    optimizer.step()\n",
    "    \n",
    "    if i % 200 == 0:\n",
    "         print(\"EPOOCH: {:3d} loss: {:.4f}\".format(i, loss.item()))"
   ]
  },
  {
   "cell_type": "code",
   "execution_count": 123,
   "metadata": {},
   "outputs": [
    {
     "name": "stdout",
     "output_type": "stream",
     "text": [
      "tensor([122.0028], grad_fn=<AddBackward0>)\n"
     ]
    }
   ],
   "source": [
    "test_x = torch.FloatTensor([73, 70, 53])\n",
    "pred_y = model(test_x)\n",
    "print(pred_y)"
   ]
  },
  {
   "cell_type": "code",
   "execution_count": 124,
   "metadata": {},
   "outputs": [
    {
     "data": {
      "text/plain": [
       "[Parameter containing:\n",
       " tensor([[0.4495, 0.3999, 1.1570]], requires_grad=True),\n",
       " Parameter containing:\n",
       " tensor([-0.1228], requires_grad=True)]"
      ]
     },
     "execution_count": 124,
     "metadata": {},
     "output_type": "execute_result"
    }
   ],
   "source": [
    "list(model.parameters())"
   ]
  },
  {
   "cell_type": "markdown",
   "metadata": {},
   "source": [
    "### 단순 선형 회귀 클래스로 구현하기"
   ]
  },
  {
   "cell_type": "code",
   "execution_count": 127,
   "metadata": {},
   "outputs": [],
   "source": [
    "class LinearRegressionModel(nn.Module):\n",
    "    def __init__(self):\n",
    "        super().__init__()\n",
    "        self.linear = nn.Linear(1,1)\n",
    "        \n",
    "    def forward(self, x):\n",
    "        return self.linear(x)"
   ]
  },
  {
   "cell_type": "code",
   "execution_count": 131,
   "metadata": {},
   "outputs": [
    {
     "name": "stdout",
     "output_type": "stream",
     "text": [
      "EPOOCH:   0 loss: 42.8262\n",
      "EPOOCH: 200 loss: 0.0073\n",
      "EPOOCH: 400 loss: 0.0028\n",
      "EPOOCH: 600 loss: 0.0011\n",
      "EPOOCH: 800 loss: 0.0004\n",
      "EPOOCH: 1000 loss: 0.0002\n"
     ]
    }
   ],
   "source": [
    "x_train = torch.FloatTensor([[1], [2], [3]])\n",
    "y_train = torch.FloatTensor([[2], [4], [6]])\n",
    "\n",
    "model = LinearRegressionModel()\n",
    "optimizer = optim.SGD(model.parameters(), lr=1e-2)\n",
    "\n",
    "EPOCHS = 1000\n",
    "for i in range(EPOCHS + 1):\n",
    "    y_hat = model(x_train)\n",
    "    loss = F.mse_loss(y_hat, y_train)\n",
    "    optimizer.zero_grad()\n",
    "    loss.backward()\n",
    "    optimizer.step()\n",
    "    \n",
    "    if i % 200 == 0:\n",
    "         print(\"EPOOCH: {:3d} loss: {:.4f}\".format(i, loss.item()))"
   ]
  },
  {
   "cell_type": "markdown",
   "metadata": {},
   "source": [
    "### 다중 선형 회귀 클래스로 구현하기"
   ]
  },
  {
   "cell_type": "code",
   "execution_count": 141,
   "metadata": {},
   "outputs": [],
   "source": [
    "class MultivariateLinearRegressionModel(nn.Module):\n",
    "    def __init__(self):\n",
    "        super().__init__()\n",
    "        self.linear = nn.Linear(3,1)\n",
    "        \n",
    "    def forward(self, x):\n",
    "        return self.linear(x)"
   ]
  },
  {
   "cell_type": "code",
   "execution_count": 142,
   "metadata": {},
   "outputs": [],
   "source": [
    "x_train = torch.FloatTensor([[73, 80, 75],\n",
    "                             [93, 88, 93],\n",
    "                             [89, 91, 90],\n",
    "                             [96, 98, 100],\n",
    "                             [73, 66, 70]])\n",
    "y_train = torch.FloatTensor([[152], [185], [180], [196], [142]])"
   ]
  },
  {
   "cell_type": "code",
   "execution_count": 153,
   "metadata": {},
   "outputs": [
    {
     "name": "stdout",
     "output_type": "stream",
     "text": [
      "EPOOCH:   0 loss: 5605.6333\n",
      "EPOOCH: 200 loss: 1.7792\n",
      "EPOOCH: 400 loss: 1.6259\n",
      "EPOOCH: 600 loss: 1.4882\n",
      "EPOOCH: 800 loss: 1.3645\n"
     ]
    }
   ],
   "source": [
    "model = MultivariateLinearRegressionModel()\n",
    "optimizer = optim.SGD(model.parameters(), lr=1e-5)\n",
    "\n",
    "EPOCHS = 1000\n",
    "for i in range(EPOCHS):\n",
    "    y_hat = model(x_train)\n",
    "    loss = F.mse_loss(y_hat, y_train)\n",
    "    optimizer.zero_grad()\n",
    "    loss.backward()\n",
    "    optimizer.step()\n",
    "    \n",
    "    if i % 200 == 0:\n",
    "         print(\"EPOOCH: {:3d} loss: {:.4f}\".format(i, loss.item()))"
   ]
  },
  {
   "cell_type": "markdown",
   "metadata": {},
   "source": [
    "### 미니 배치와 데이터 로드(Mini Batch and Data Load)"
   ]
  },
  {
   "cell_type": "code",
   "execution_count": 181,
   "metadata": {},
   "outputs": [],
   "source": [
    "from torch.utils.data import TensorDataset \n",
    "from torch.utils.data import DataLoader"
   ]
  },
  {
   "cell_type": "code",
   "execution_count": 182,
   "metadata": {},
   "outputs": [],
   "source": [
    "x_train  =  torch.FloatTensor([[73,  80,  75], \n",
    "                               [93,  88,  93], \n",
    "                               [89,  91,  90], \n",
    "                               [96,  98,  100],   \n",
    "                               [73,  66,  70]])  \n",
    "y_train  =  torch.FloatTensor([[152],  [185],  [180],  [196],  [142]])"
   ]
  },
  {
   "cell_type": "code",
   "execution_count": 183,
   "metadata": {},
   "outputs": [],
   "source": [
    "dataset = TensorDataset(x_train, y_train)\n",
    "\n",
    "# shuffle=True -> Epoch마다 데이터셋을 shuffle\n",
    "dataloader = DataLoader(dataset, batch_size=2, shuffle=True)"
   ]
  },
  {
   "cell_type": "code",
   "execution_count": 189,
   "metadata": {
    "scrolled": false
   },
   "outputs": [
    {
     "name": "stdout",
     "output_type": "stream",
     "text": [
      "Epoch 0 | Batch 1/3 loss: 14528.336914\n",
      "Epoch 0 | Batch 2/3 loss: 6453.536133\n",
      "Epoch 0 | Batch 3/3 loss: 763.382996\n",
      "Epoch 1 | Batch 1/3 loss: 617.052368\n",
      "Epoch 1 | Batch 2/3 loss: 112.192566\n",
      "Epoch 1 | Batch 3/3 loss: 78.467705\n",
      "Epoch 2 | Batch 1/3 loss: 13.275261\n",
      "Epoch 2 | Batch 2/3 loss: 2.794428\n",
      "Epoch 2 | Batch 3/3 loss: 3.396151\n",
      "Epoch 3 | Batch 1/3 loss: 0.433234\n",
      "Epoch 3 | Batch 2/3 loss: 0.269064\n",
      "Epoch 3 | Batch 3/3 loss: 0.575390\n",
      "Epoch 4 | Batch 1/3 loss: 0.286360\n",
      "Epoch 4 | Batch 2/3 loss: 0.499715\n",
      "Epoch 4 | Batch 3/3 loss: 0.119247\n"
     ]
    }
   ],
   "source": [
    "model = nn.Linear(3,1)\n",
    "optimizer = optim.SGD(model.parameters(), lr=1e-5)\n",
    "\n",
    "EPOCHS = 5\n",
    "for i in range(EPOCHS):\n",
    "    for batch_idx, samples in enumerate(dataloader):\n",
    "        x_train, y_train = samples\n",
    "        y_hat = model(x_train)\n",
    "        loss = F.mse_loss(y_hat, y_train)\n",
    "        \n",
    "        optimizer.zero_grad()\n",
    "        loss.backward()\n",
    "        optimizer.step()\n",
    "        \n",
    "        print('Epoch {:1d} | Batch {}/{} loss: {:.6f}'.format(\n",
    "        i, batch_idx+1, len(dataloader), loss.item()\n",
    "        ))"
   ]
  },
  {
   "cell_type": "markdown",
   "metadata": {},
   "source": [
    "### 커스텀 데이터셋(Custom Dataset)"
   ]
  },
  {
   "cell_type": "code",
   "execution_count": 191,
   "metadata": {},
   "outputs": [],
   "source": [
    "from torch.utils.data import Dataset\n",
    "\n",
    "class CustomDataset(Dataset):\n",
    "    def __init__(self):\n",
    "        # 데이터셋의 전처리를 해주는 부분\n",
    "        pass\n",
    "    \n",
    "    def __len__(self):\n",
    "        # 데이터셋의 길이. 즉, 총 샘플의 수를 적어주는 부분\n",
    "        # len(dataset) -> 크기 리턴\n",
    "        pass \n",
    "    \n",
    "    def __getitem__(self, idx):\n",
    "        # 데이터셋에서 특정 1개의 샘플을 가져오는 함수\n",
    "        # dataset[i] -> i번째 샘플 리턴\n",
    "        pass"
   ]
  },
  {
   "cell_type": "markdown",
   "metadata": {},
   "source": [
    "### Custom Dataset 으로 선형 회귀 구현하기"
   ]
  },
  {
   "cell_type": "code",
   "execution_count": 196,
   "metadata": {},
   "outputs": [],
   "source": [
    "from torch.utils.data import Dataset\n",
    "from torch.utils.data import DataLoader"
   ]
  },
  {
   "cell_type": "code",
   "execution_count": 193,
   "metadata": {},
   "outputs": [],
   "source": [
    "class CustomDataset(Dataset):\n",
    "    def __init__(self):\n",
    "        self.x_data = [[73, 80, 75],\n",
    "                       [93, 88, 93],\n",
    "                       [89, 91, 90],\n",
    "                       [96, 98, 100],\n",
    "                       [73, 66, 70]]\n",
    "        self.y_data = [[152], [185], [180], [196], [142]]\n",
    "        \n",
    "    def __len__(self):\n",
    "        return len(self.x_data)\n",
    "    \n",
    "    def __getitem__(self, idx):\n",
    "        x = torch.FloatTensor(self.x_data[idx])\n",
    "        y = torch.FloatTensor(self.y_data[idx])\n",
    "        return x, y"
   ]
  },
  {
   "cell_type": "code",
   "execution_count": 195,
   "metadata": {},
   "outputs": [
    {
     "name": "stdout",
     "output_type": "stream",
     "text": [
      "5\n",
      "(tensor([73., 80., 75.]), tensor([152.]))\n"
     ]
    }
   ],
   "source": [
    "dataset = CustomDataset()\n",
    "print(len(dataset))\n",
    "print(dataset[0])\n",
    "\n",
    "dataloader = DataLoader(dataset, batch_size=2, shuffle=True)"
   ]
  },
  {
   "cell_type": "code",
   "execution_count": 198,
   "metadata": {},
   "outputs": [
    {
     "name": "stdout",
     "output_type": "stream",
     "text": [
      "EPOCH: 0 | loss: 1933.9944\n",
      "EPOCH: 200 | loss: 9.9571\n",
      "EPOCH: 400 | loss: 0.9954\n",
      "EPOCH: 600 | loss: 4.0847\n",
      "EPOCH: 800 | loss: 6.9589\n"
     ]
    }
   ],
   "source": [
    "model = torch.nn.Linear(3,1)\n",
    "optimizer = optim.SGD(model.parameters(), lr=1e-5)\n",
    "\n",
    "EPOCHS = 1000\n",
    "for i in range(EPOCHS):\n",
    "    for batch_idx, mini_batch in enumerate(dataloader):\n",
    "        x, y = mini_batch\n",
    "        y_hat = model(x)\n",
    "        loss = F.mse_loss(y_hat, y)\n",
    "        optimizer.zero_grad()\n",
    "        loss.backward()\n",
    "        optimizer.step()\n",
    "    if i % 200 == 0:\n",
    "        print(\"EPOCH: {} | loss: {:.4f}\".format(i, loss.item()))"
   ]
  }
 ],
 "metadata": {
  "kernelspec": {
   "display_name": "Python 3",
   "language": "python",
   "name": "python3"
  },
  "language_info": {
   "codemirror_mode": {
    "name": "ipython",
    "version": 3
   },
   "file_extension": ".py",
   "mimetype": "text/x-python",
   "name": "python",
   "nbconvert_exporter": "python",
   "pygments_lexer": "ipython3",
   "version": "3.7.9"
  }
 },
 "nbformat": 4,
 "nbformat_minor": 4
}
