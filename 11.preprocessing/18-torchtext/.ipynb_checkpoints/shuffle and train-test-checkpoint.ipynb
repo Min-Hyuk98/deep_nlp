{
 "cells": [
  {
   "cell_type": "code",
   "execution_count": 1,
   "metadata": {},
   "outputs": [],
   "source": [
    "import pandas as pd\n"
   ]
  },
  {
   "cell_type": "markdown",
   "metadata": {},
   "source": [
    "## shuffle하기"
   ]
  },
  {
   "cell_type": "code",
   "execution_count": 8,
   "metadata": {
    "scrolled": true
   },
   "outputs": [
    {
     "name": "stdout",
     "output_type": "stream",
     "text": [
      "          0                                                  1\n",
      "0  negative  올 터치 막대 를 너무나 도 아무 대책 없이 ~~ 뽁뽁 이 도 없이 그냥 보냈 네요...\n",
      "1  negative  너무 싼 티나 서 놀람 ㅜㅜ 천 가방 이 아닌 싸구려 가죽 에 테 슬 장식 달림 화...\n",
      "2  negative                         이름 은 큐브 인데 실제 큐브 아닙니다 . . \n",
      "3  negative                                       너무 양 이 적 어요 \n",
      "4  negative            효과 도 큰 것 같 지 않 고 . . 끈적 한 것 이 남 아 있 어요 \n",
      "5  negative                  부드러워 요 하 지만 지성 피부 한테 별로 효과 없 는 듯 \n",
      "6  positive                        정말 만족 합니다 배송 만 좀 빠르 면 . ㅋㅋ \n"
     ]
    }
   ],
   "source": [
    "df = pd.read_csv('review.sorted.uniq.refined.tok.tsv', delimiter='\\t', header=None)\n",
    "\n",
    "# frac 매개 변수는 반환해야하는 전체 인스턴스의 비율을 결정합니다. 셔플을하려면 frac의 값을 1로 설정하십시오.\n",
    "df_shuffled = df.sample(frac=1).reset_index(drop=True)\n",
    "print(df_shuffled.head(7))\n",
    "df_shuffled.to_csv('sorted.tsv', index=False, header=None, sep=\"\\t\")"
   ]
  },
  {
   "cell_type": "markdown",
   "metadata": {},
   "source": [
    "## train - test 나누기"
   ]
  },
  {
   "cell_type": "code",
   "execution_count": 12,
   "metadata": {},
   "outputs": [],
   "source": [
    "df = pd.read_csv('sorted.tsv', delimiter='\\t', header=None)\n",
    "df.iloc[:220000].to_csv('sorted_train.tsv', index=False, header=None, sep=\"\\t\")\n",
    "df.iloc[220000:].to_csv('sorted_test.tsv', index=False, header=None, sep=\"\\t\")"
   ]
  }
 ],
 "metadata": {
  "kernelspec": {
   "display_name": "Python 3",
   "language": "python",
   "name": "python3"
  },
  "language_info": {
   "codemirror_mode": {
    "name": "ipython",
    "version": 3
   },
   "file_extension": ".py",
   "mimetype": "text/x-python",
   "name": "python",
   "nbconvert_exporter": "python",
   "pygments_lexer": "ipython3",
   "version": "3.7.9"
  }
 },
 "nbformat": 4,
 "nbformat_minor": 4
}
