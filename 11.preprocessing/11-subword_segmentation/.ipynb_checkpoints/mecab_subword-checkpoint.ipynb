{
 "cells": [
  {
   "cell_type": "code",
   "execution_count": 1,
   "metadata": {},
   "outputs": [],
   "source": [
    "import MeCab\n",
    "import pandas as pd\n",
    "import numpy as np\n",
    "\n",
    "mecab = MeCab.Tagger()"
   ]
  },
  {
   "cell_type": "code",
   "execution_count": 73,
   "metadata": {},
   "outputs": [],
   "source": [
    "import re\n",
    "\n",
    "def mecab_nouns(text):\n",
    "    nouns = []\n",
    "    \n",
    "    # 우리가 원하는 TOKEN\\tPOS의 형태를 추출하는 정규표현식.\n",
    "    pattern = re.compile('.*\\t[A-Z]+')\n",
    "    \n",
    "    # 패턴에 맞는 문자열을 추출하여 konlpy의 mecab 결과와 같아지도록 수정.\n",
    "    temp = [tuple(pattern.match(token).group(0).split('\\t')) for token in mecab.parse(text).splitlines()[:-1]]    \n",
    "        \n",
    "    # 추출한 token중에 POS가 명사 분류에 속하는 토큰만 선택.\n",
    "    for token in temp:\n",
    "        if re.match('N[A-Z]+', token[1]):\n",
    "            nouns.append(token[0])\n",
    "    return nouns\n",
    "\n",
    "def mecab_morphs(text):\n",
    "    morphs = []\n",
    "    \n",
    "    # 우리가 원하는 TOKEN\\tPOS의 형태를 추출하는 정규표현식.\n",
    "    pattern = re.compile(\".*\\t[A-Z]+\")\n",
    "    \n",
    "    # 패턴에 맞는 문자열을 추출하여 konlpy의 mecab 결과와 같아지도록 수정.\n",
    "    temp = [tuple(pattern.match(token).group(0).split(\"\\t\")) for token in mecab.parse(text).splitlines()[:-1]] \n",
    "    \n",
    "    # 추출한 token중에 문자열만 선택.\n",
    "    for token in temp:\n",
    "        morphs.append(token[0])\n",
    "    \n",
    "    return morphs\n",
    "\n",
    "def mecab_morphs_to_string(text):\n",
    "    morphs = \"\"\n",
    "    \n",
    "    # 우리가 원하는 TOKEN\\tPOS의 형태를 추출하는 정규표현식.\n",
    "    pattern = re.compile(\".*\\t[A-Z]+\")\n",
    "    \n",
    "    # 패턴에 맞는 문자열을 추출하여 konlpy의 mecab 결과와 같아지도록 수정.\n",
    "    temp = [tuple(pattern.match(token).group(0).split(\"\\t\")) for token in mecab.parse(text).splitlines()[:-1]] \n",
    "\n",
    "    # 추출한 token중에 문자열만 선택.\n",
    "    for token in temp:\n",
    "        morphs += token[0]\n",
    "        morphs += ' '\n",
    "    return morphs\n",
    "\n",
    "def mecab_pos(text):\n",
    "    pos = []\n",
    "    \n",
    "    # 우리가 원하는 TOKEN\\tPOS의 형태를 추출하는 정규표현식.\n",
    "    # re()보다 re.compile()로 해서 미리 컴파일해두면 속도가 더 빠름\n",
    "    pattern = re.compile(\".*\\t[A-Z]+\") # 토큰이름, 탭, 품사종류\n",
    "    \n",
    "    # 패턴에 맞는 문자열을 추출하여 konlpy의 mecab 결과와 같아지도록 수정.\n",
    "    # group(0) -> 생성된 객체에서 스트링만 뽑아줌\n",
    "    pos = [tuple(pattern.match(token).group(0).split(\"\\t\")) for token in mecab.parse(text).splitlines()[:-1]]\n",
    "    \n",
    "    return pos"
   ]
  },
  {
   "cell_type": "markdown",
   "metadata": {},
   "source": [
    "## 1. review.sorted.uniq.refined.tsv.text 만들기\n",
    "- cut -f2 .\\review.sorted.uniq.refined.tsv > .\\review.sorted.uniq.refined.tsv.text\n",
    "- review.sorted.uniq.refined.tsv의 text부분을 review.sorted.uniq.refined.tsv.text에 저장"
   ]
  },
  {
   "cell_type": "code",
   "execution_count": 7,
   "metadata": {},
   "outputs": [],
   "source": [
    "dataset = pd.read_csv(\"review.sorted.uniq.refined.tsv\", delimiter='\\t', header=None)\n",
    "dataset[1].to_csv('review.sorted.uniq.refined.tsv.text', index=False, header=None, sep=\"\\t\")"
   ]
  },
  {
   "cell_type": "markdown",
   "metadata": {},
   "source": [
    "## 2. review.sorted.uniq.refined.tsv.label 만들기\n",
    "- cut -f1 .\\review.sorted.uniq.refined.tsv > .\\review.sorted.uniq.refined.tsv.label\n",
    "- review.sorted.uniq.refined.tsv의 label부분을 review.sorted.uniq.refined.tsv.label에 저장"
   ]
  },
  {
   "cell_type": "code",
   "execution_count": 94,
   "metadata": {},
   "outputs": [],
   "source": [
    "dataset = pd.read_csv(\"review.sorted.uniq.refined.tsv\", delimiter='\\t', header=None)\n",
    "dataset[0].to_csv('review.sorted.uniq.refined.tsv.label', index=False, header=None, sep=\"\\t\")"
   ]
  },
  {
   "cell_type": "markdown",
   "metadata": {},
   "source": [
    "## 3. review.sorted.uniq.refined.tsv.text.tok 만들기\n",
    "- cat .\\review.sorted.uniq.refined.tsv.text | mecab -0 wakati | python .\\post_tokenize.py .\\review.sorted.uniq.refined.tsv.text > .\\review.sorted.uniq.refined.tsv.text.tok"
   ]
  },
  {
   "cell_type": "code",
   "execution_count": 90,
   "metadata": {
    "scrolled": false
   },
   "outputs": [
    {
     "data": {
      "text/html": [
       "<div>\n",
       "<style scoped>\n",
       "    .dataframe tbody tr th:only-of-type {\n",
       "        vertical-align: middle;\n",
       "    }\n",
       "\n",
       "    .dataframe tbody tr th {\n",
       "        vertical-align: top;\n",
       "    }\n",
       "\n",
       "    .dataframe thead th {\n",
       "        text-align: right;\n",
       "    }\n",
       "</style>\n",
       "<table border=\"1\" class=\"dataframe\">\n",
       "  <thead>\n",
       "    <tr style=\"text-align: right;\">\n",
       "      <th></th>\n",
       "      <th>0</th>\n",
       "    </tr>\n",
       "  </thead>\n",
       "  <tbody>\n",
       "    <tr>\n",
       "      <th>0</th>\n",
       "      <td>!</td>\n",
       "    </tr>\n",
       "    <tr>\n",
       "      <th>1</th>\n",
       "      <td>! ▁다녹아서 ▁왓어요 ▁.. ▁짜증</td>\n",
       "    </tr>\n",
       "    <tr>\n",
       "      <th>2</th>\n",
       "      <td>!!!!!!!!!!!!!</td>\n",
       "    </tr>\n",
       "    <tr>\n",
       "      <th>3</th>\n",
       "      <td>!!!!이게뭐야?진짜이게뭐야?리뷰보고구매했는데!나원참!</td>\n",
       "    </tr>\n",
       "    <tr>\n",
       "      <th>4</th>\n",
       "      <td>싼 ▁게 ▁비지떡.200ml라고 ▁판매하는데 ▁내가 ▁보기엔 ▁절대 ▁이거 ▁100...</td>\n",
       "    </tr>\n",
       "    <tr>\n",
       "      <th>5</th>\n",
       "      <td>축 ▁결혼이라는 ▁리본도 ▁없고 ▁화환 ▁하나에 ▁두사람 ▁이름만 ▁있는 ▁걸 ▁보...</td>\n",
       "    </tr>\n",
       "    <tr>\n",
       "      <th>6</th>\n",
       "      <td>가죽 ▁검정이라는 ▁상품명에서 ▁누구나 ▁알 ▁수 ▁있 ▁듯 ▁인조가죽 ▁느낌의 ▁...</td>\n",
       "    </tr>\n",
       "  </tbody>\n",
       "</table>\n",
       "</div>"
      ],
      "text/plain": [
       "                                                   0\n",
       "0                                                  !\n",
       "1                               ! ▁다녹아서 ▁왓어요 ▁.. ▁짜증\n",
       "2                                      !!!!!!!!!!!!!\n",
       "3                     !!!!이게뭐야?진짜이게뭐야?리뷰보고구매했는데!나원참!\n",
       "4  싼 ▁게 ▁비지떡.200ml라고 ▁판매하는데 ▁내가 ▁보기엔 ▁절대 ▁이거 ▁100...\n",
       "5  축 ▁결혼이라는 ▁리본도 ▁없고 ▁화환 ▁하나에 ▁두사람 ▁이름만 ▁있는 ▁걸 ▁보...\n",
       "6  가죽 ▁검정이라는 ▁상품명에서 ▁누구나 ▁알 ▁수 ▁있 ▁듯 ▁인조가죽 ▁느낌의 ▁..."
      ]
     },
     "execution_count": 90,
     "metadata": {},
     "output_type": "execute_result"
    }
   ],
   "source": [
    "dataset = pd.read_csv(\"review.sorted.uniq.refined.tsv.text\", delimiter='\\t', header=None)\n",
    "\n",
    "dataset = dataset.apply(lambda x :x.replace(to_replace=r'\\s', value=' ▁', regex=True))\n",
    "dataset.head(7) # '▁'"
   ]
  },
  {
   "cell_type": "code",
   "execution_count": 91,
   "metadata": {
    "scrolled": true
   },
   "outputs": [
    {
     "data": {
      "text/html": [
       "<div>\n",
       "<style scoped>\n",
       "    .dataframe tbody tr th:only-of-type {\n",
       "        vertical-align: middle;\n",
       "    }\n",
       "\n",
       "    .dataframe tbody tr th {\n",
       "        vertical-align: top;\n",
       "    }\n",
       "\n",
       "    .dataframe thead th {\n",
       "        text-align: right;\n",
       "    }\n",
       "</style>\n",
       "<table border=\"1\" class=\"dataframe\">\n",
       "  <thead>\n",
       "    <tr style=\"text-align: right;\">\n",
       "      <th></th>\n",
       "      <th>0</th>\n",
       "    </tr>\n",
       "  </thead>\n",
       "  <tbody>\n",
       "    <tr>\n",
       "      <th>0</th>\n",
       "      <td>!</td>\n",
       "    </tr>\n",
       "    <tr>\n",
       "      <th>1</th>\n",
       "      <td>! ▁ 다 녹 아서 ▁ 왓 어요 ▁.. ▁ 짜증</td>\n",
       "    </tr>\n",
       "    <tr>\n",
       "      <th>2</th>\n",
       "      <td>!!!!!!!!!!!!!</td>\n",
       "    </tr>\n",
       "    <tr>\n",
       "      <th>3</th>\n",
       "      <td>!!!! 이게 뭐 야 ? 진짜 이게 뭐 야 ? 리뷰 보고 구매 했 는데 ! 나원참 !</td>\n",
       "    </tr>\n",
       "    <tr>\n",
       "      <th>4</th>\n",
       "      <td>싼 ▁ 게 ▁ 비지떡 . 200 ml 라고 ▁ 판매 하 는데 ▁ 내 가 ▁ 보 기 ...</td>\n",
       "    </tr>\n",
       "    <tr>\n",
       "      <th>5</th>\n",
       "      <td>축 ▁ 결혼 이 라는 ▁ 리본 도 ▁ 없 고 ▁ 화환 ▁ 하나 에 ▁ 두 사람 ▁ ...</td>\n",
       "    </tr>\n",
       "    <tr>\n",
       "      <th>6</th>\n",
       "      <td>가죽 ▁ 검정 이 라는 ▁ 상품명 에서 ▁ 누구 나 ▁ 알 ▁ 수 ▁ 있 ▁ 듯 ▁...</td>\n",
       "    </tr>\n",
       "  </tbody>\n",
       "</table>\n",
       "</div>"
      ],
      "text/plain": [
       "                                                   0\n",
       "0                                                 ! \n",
       "1                        ! ▁ 다 녹 아서 ▁ 왓 어요 ▁.. ▁ 짜증 \n",
       "2                                     !!!!!!!!!!!!! \n",
       "3   !!!! 이게 뭐 야 ? 진짜 이게 뭐 야 ? 리뷰 보고 구매 했 는데 ! 나원참 ! \n",
       "4  싼 ▁ 게 ▁ 비지떡 . 200 ml 라고 ▁ 판매 하 는데 ▁ 내 가 ▁ 보 기 ...\n",
       "5  축 ▁ 결혼 이 라는 ▁ 리본 도 ▁ 없 고 ▁ 화환 ▁ 하나 에 ▁ 두 사람 ▁ ...\n",
       "6  가죽 ▁ 검정 이 라는 ▁ 상품명 에서 ▁ 누구 나 ▁ 알 ▁ 수 ▁ 있 ▁ 듯 ▁..."
      ]
     },
     "execution_count": 91,
     "metadata": {},
     "output_type": "execute_result"
    }
   ],
   "source": [
    "dataset[0] = dataset[0].apply(mecab_morphs_to_string)\n",
    "dataset.head(7)"
   ]
  },
  {
   "cell_type": "code",
   "execution_count": 92,
   "metadata": {
    "scrolled": true
   },
   "outputs": [
    {
     "data": {
      "text/html": [
       "<div>\n",
       "<style scoped>\n",
       "    .dataframe tbody tr th:only-of-type {\n",
       "        vertical-align: middle;\n",
       "    }\n",
       "\n",
       "    .dataframe tbody tr th {\n",
       "        vertical-align: top;\n",
       "    }\n",
       "\n",
       "    .dataframe thead th {\n",
       "        text-align: right;\n",
       "    }\n",
       "</style>\n",
       "<table border=\"1\" class=\"dataframe\">\n",
       "  <thead>\n",
       "    <tr style=\"text-align: right;\">\n",
       "      <th></th>\n",
       "      <th>0</th>\n",
       "    </tr>\n",
       "  </thead>\n",
       "  <tbody>\n",
       "    <tr>\n",
       "      <th>0</th>\n",
       "      <td>!</td>\n",
       "    </tr>\n",
       "    <tr>\n",
       "      <th>1</th>\n",
       "      <td>! ▁다 녹 아서 ▁왓 어요 ▁.. ▁짜증</td>\n",
       "    </tr>\n",
       "    <tr>\n",
       "      <th>2</th>\n",
       "      <td>!!!!!!!!!!!!!</td>\n",
       "    </tr>\n",
       "    <tr>\n",
       "      <th>3</th>\n",
       "      <td>!!!! 이게 뭐 야 ? 진짜 이게 뭐 야 ? 리뷰 보고 구매 했 는데 ! 나원참 !</td>\n",
       "    </tr>\n",
       "    <tr>\n",
       "      <th>4</th>\n",
       "      <td>싼 ▁게 ▁비지떡 . 200 ml 라고 ▁판매 하 는데 ▁내 가 ▁보 기 엔 ▁절대...</td>\n",
       "    </tr>\n",
       "    <tr>\n",
       "      <th>5</th>\n",
       "      <td>축 ▁결혼 이 라는 ▁리본 도 ▁없 고 ▁화환 ▁하나 에 ▁두 사람 ▁이름 만 ▁있...</td>\n",
       "    </tr>\n",
       "    <tr>\n",
       "      <th>6</th>\n",
       "      <td>가죽 ▁검정 이 라는 ▁상품명 에서 ▁누구 나 ▁알 ▁수 ▁있 ▁듯 ▁인조 가죽 ▁...</td>\n",
       "    </tr>\n",
       "  </tbody>\n",
       "</table>\n",
       "</div>"
      ],
      "text/plain": [
       "                                                   0\n",
       "0                                                 ! \n",
       "1                           ! ▁다 녹 아서 ▁왓 어요 ▁.. ▁짜증 \n",
       "2                                     !!!!!!!!!!!!! \n",
       "3   !!!! 이게 뭐 야 ? 진짜 이게 뭐 야 ? 리뷰 보고 구매 했 는데 ! 나원참 ! \n",
       "4  싼 ▁게 ▁비지떡 . 200 ml 라고 ▁판매 하 는데 ▁내 가 ▁보 기 엔 ▁절대...\n",
       "5  축 ▁결혼 이 라는 ▁리본 도 ▁없 고 ▁화환 ▁하나 에 ▁두 사람 ▁이름 만 ▁있...\n",
       "6  가죽 ▁검정 이 라는 ▁상품명 에서 ▁누구 나 ▁알 ▁수 ▁있 ▁듯 ▁인조 가죽 ▁..."
      ]
     },
     "execution_count": 92,
     "metadata": {},
     "output_type": "execute_result"
    }
   ],
   "source": [
    "dataset[0] = dataset[0].apply(lambda x: x.replace('▁ ', '▁'))\n",
    "dataset.head(7)"
   ]
  },
  {
   "cell_type": "code",
   "execution_count": 93,
   "metadata": {},
   "outputs": [],
   "source": [
    "dataset.to_csv('review.sorted.uniq.refined.tsv.text.tok', index=False, header=None, sep=\"\\t\")"
   ]
  },
  {
   "cell_type": "markdown",
   "metadata": {},
   "source": [
    "## 4. subword의 learn_bpe 적용해서 model 파일로 저장하기"
   ]
  },
  {
   "cell_type": "markdown",
   "metadata": {},
   "source": [
    "python .\\subword-nmt\\learn_bpe.py --input .\\review.sorted.uniq.refined.tsv.text.tok --output model --symbols 30000"
   ]
  },
  {
   "cell_type": "markdown",
   "metadata": {},
   "source": [
    "## 5. subword의 apply_bpe 적용해서 review.sorted.uniq.refined.tsv.text.tok.bpe 파일로 저장하기"
   ]
  },
  {
   "cell_type": "markdown",
   "metadata": {},
   "source": [
    "python .\\subword-nmt\\apply_bpe.py --codes .\\model < .\\review.sorted.uniq.refined.tsv.text.tok > .\\review.sorted.uniq.refined.tsv.text.tok.bpe"
   ]
  },
  {
   "cell_type": "markdown",
   "metadata": {},
   "source": [
    "### review.sorted.uniq.refined.tsv.text.tok.bpe 파일에서....\n",
    "- '▁'  ~> 처음 파일의 띄어쓰기만\n",
    "- '▁▁' ~> 처음 파일의 띄어쓰기 + subword로 분할한것\n",
    "- ' ' ~> mecab으로 형태소 분할한것"
   ]
  },
  {
   "cell_type": "markdown",
   "metadata": {},
   "source": [
    "## 6. 최종 파일 만들기\n",
    "### review.sorted.uniq.refined.tsv.label와 review.sorted.uniq.refined.tsv.text.tok.bpe 합하기\n",
    "- paste review.sorted.uniq.refined.tsv.label review.sorted.uniq.refined.tsv.text.tok.bpe > review.sorted.uniq.refined.tok.bpe\n"
   ]
  },
  {
   "cell_type": "code",
   "execution_count": 103,
   "metadata": {
    "scrolled": false
   },
   "outputs": [],
   "source": [
    "dataset1 = pd.read_csv(\"review.sorted.uniq.refined.tsv.label\", delimiter='\\t', header=None)\n",
    "dataset2 = pd.read_csv(\"review.sorted.uniq.refined.tsv.text.tok.bpe\", delimiter='\\t', header=None)\n",
    "\n",
    "ret_df = pd.concat([dataset1,dataset2], axis=1)\n",
    "ret_df.to_csv('review.sorted.uniq.refined.tok.bpe', index=False, header=None, sep=\"\\t\")"
   ]
  }
 ],
 "metadata": {
  "kernelspec": {
   "display_name": "Python 3",
   "language": "python",
   "name": "python3"
  },
  "language_info": {
   "codemirror_mode": {
    "name": "ipython",
    "version": 3
   },
   "file_extension": ".py",
   "mimetype": "text/x-python",
   "name": "python",
   "nbconvert_exporter": "python",
   "pygments_lexer": "ipython3",
   "version": "3.7.9"
  }
 },
 "nbformat": 4,
 "nbformat_minor": 4
}
