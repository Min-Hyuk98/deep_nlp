{
 "cells": [
  {
   "cell_type": "code",
   "execution_count": 10,
   "metadata": {},
   "outputs": [],
   "source": [
    "import MeCab\n",
    "import pandas as pd\n",
    "import numpy as np\n",
    "\n",
    "mecab = MeCab.Tagger()"
   ]
  },
  {
   "cell_type": "code",
   "execution_count": 11,
   "metadata": {},
   "outputs": [],
   "source": [
    "import re\n",
    "\n",
    "def mecab_nouns(text):\n",
    "    nouns = []\n",
    "    \n",
    "    # 우리가 원하는 TOKEN\\tPOS의 형태를 추출하는 정규표현식.\n",
    "    pattern = re.compile('.*\\t[A-Z]+')\n",
    "    \n",
    "    # 패턴에 맞는 문자열을 추출하여 konlpy의 mecab 결과와 같아지도록 수정.\n",
    "    temp = [tuple(pattern.match(token).group(0).split('\\t')) for token in mecab.parse(text).splitlines()[:-1]]    \n",
    "        \n",
    "    # 추출한 token중에 POS가 명사 분류에 속하는 토큰만 선택.\n",
    "    for token in temp:\n",
    "        if re.match('N[A-Z]+', token[1]):\n",
    "            nouns.append(token[0])\n",
    "    return nouns\n",
    "\n",
    "def mecab_morphs(text):\n",
    "    morphs = []\n",
    "    \n",
    "    # 우리가 원하는 TOKEN\\tPOS의 형태를 추출하는 정규표현식.\n",
    "    pattern = re.compile(\".*\\t[A-Z]+\")\n",
    "    \n",
    "    # 패턴에 맞는 문자열을 추출하여 konlpy의 mecab 결과와 같아지도록 수정.\n",
    "    temp = [tuple(pattern.match(token).group(0).split(\"\\t\")) for token in mecab.parse(text).splitlines()[:-1]] \n",
    "    \n",
    "    # 추출한 token중에 문자열만 선택.\n",
    "    for token in temp:\n",
    "        morphs.append(token[0])\n",
    "    \n",
    "    return morphs\n",
    "\n",
    "def mecab_morphs_to_string(text):\n",
    "    morphs = \"\"\n",
    "    # 우리가 원하는 TOKEN\\tPOS의 형태를 추출하는 정규표현식.\n",
    "    pattern = re.compile(\".*\\t[A-Z]+\")\n",
    "    \n",
    "    # 패턴에 맞는 문자열을 추출하여 konlpy의 mecab 결과와 같아지도록 수정.\n",
    "    temp = [tuple(pattern.match(token).group(0).split(\"\\t\")) for token in mecab.parse(text).splitlines()[:-1]] \n",
    "\n",
    "    # 추출한 token중에 문자열만 선택.\n",
    "    for token in temp:\n",
    "        morphs += token[0]\n",
    "        morphs += ' '\n",
    "    return morphs\n",
    "\n",
    "def mecab_pos(text):\n",
    "    pos = []\n",
    "    \n",
    "    # 우리가 원하는 TOKEN\\tPOS의 형태를 추출하는 정규표현식.\n",
    "    # re()보다 re.compile()로 해서 미리 컴파일해두면 속도가 더 빠름\n",
    "    pattern = re.compile(\".*\\t[A-Z]+\") # 토큰이름, 탭, 품사종류\n",
    "    \n",
    "    # 패턴에 맞는 문자열을 추출하여 konlpy의 mecab 결과와 같아지도록 수정.\n",
    "    # group(0) -> 생성된 객체에서 스트링만 뽑아줌\n",
    "    pos = [tuple(pattern.match(token).group(0).split(\"\\t\")) for token in mecab.parse(text).splitlines()[:-1]]\n",
    "    \n",
    "    return pos"
   ]
  },
  {
   "cell_type": "code",
   "execution_count": 12,
   "metadata": {},
   "outputs": [
    {
     "data": {
      "text/plain": [
       "'아빠 가 방 에 들어가 신다 사과 는 맛있 다 나 는 배 가 고프 다 '"
      ]
     },
     "execution_count": 12,
     "metadata": {},
     "output_type": "execute_result"
    }
   ],
   "source": [
    "aa = \"아빠가 방에 들어가신다 사과는 맛있다 나는 배가고프다\"\n",
    "\n",
    "mecab_morphs_to_string(aa)"
   ]
  },
  {
   "cell_type": "markdown",
   "metadata": {},
   "source": [
    "### .TSV 파일 읽고 쓰기 참고\n",
    "https://swlock.blogspot.com/2018/12/python-tsv.html"
   ]
  },
  {
   "cell_type": "code",
   "execution_count": 13,
   "metadata": {},
   "outputs": [],
   "source": [
    "dataset = pd.read_csv(\"review.sorted.uniq.refined.tsv\", delimiter='\\t', header=None)"
   ]
  },
  {
   "cell_type": "code",
   "execution_count": 14,
   "metadata": {
    "scrolled": true
   },
   "outputs": [
    {
     "data": {
      "text/html": [
       "<div>\n",
       "<style scoped>\n",
       "    .dataframe tbody tr th:only-of-type {\n",
       "        vertical-align: middle;\n",
       "    }\n",
       "\n",
       "    .dataframe tbody tr th {\n",
       "        vertical-align: top;\n",
       "    }\n",
       "\n",
       "    .dataframe thead th {\n",
       "        text-align: right;\n",
       "    }\n",
       "</style>\n",
       "<table border=\"1\" class=\"dataframe\">\n",
       "  <thead>\n",
       "    <tr style=\"text-align: right;\">\n",
       "      <th></th>\n",
       "      <th>0</th>\n",
       "      <th>1</th>\n",
       "    </tr>\n",
       "  </thead>\n",
       "  <tbody>\n",
       "    <tr>\n",
       "      <th>0</th>\n",
       "      <td>negative</td>\n",
       "      <td>!</td>\n",
       "    </tr>\n",
       "    <tr>\n",
       "      <th>1</th>\n",
       "      <td>negative</td>\n",
       "      <td>! 다녹아서 왓어요 .. 짜증</td>\n",
       "    </tr>\n",
       "    <tr>\n",
       "      <th>2</th>\n",
       "      <td>negative</td>\n",
       "      <td>!!!!!!!!!!!!!</td>\n",
       "    </tr>\n",
       "    <tr>\n",
       "      <th>3</th>\n",
       "      <td>negative</td>\n",
       "      <td>!!!!이게뭐야?진짜이게뭐야?리뷰보고구매했는데!나원참!</td>\n",
       "    </tr>\n",
       "    <tr>\n",
       "      <th>4</th>\n",
       "      <td>negative</td>\n",
       "      <td>싼 게 비지떡.200ml라고 판매하는데 내가 보기엔 절대 이거 100ml도 안된다....</td>\n",
       "    </tr>\n",
       "  </tbody>\n",
       "</table>\n",
       "</div>"
      ],
      "text/plain": [
       "          0                                                  1\n",
       "0  negative                                                  !\n",
       "1  negative                                   ! 다녹아서 왓어요 .. 짜증\n",
       "2  negative                                      !!!!!!!!!!!!!\n",
       "3  negative                     !!!!이게뭐야?진짜이게뭐야?리뷰보고구매했는데!나원참!\n",
       "4  negative  싼 게 비지떡.200ml라고 판매하는데 내가 보기엔 절대 이거 100ml도 안된다...."
      ]
     },
     "execution_count": 14,
     "metadata": {},
     "output_type": "execute_result"
    }
   ],
   "source": [
    "dataset.head()"
   ]
  },
  {
   "cell_type": "code",
   "execution_count": 15,
   "metadata": {},
   "outputs": [],
   "source": [
    "dataset[1] = dataset[1].apply(mecab_morphs_to_string)"
   ]
  },
  {
   "cell_type": "code",
   "execution_count": 16,
   "metadata": {
    "scrolled": false
   },
   "outputs": [
    {
     "data": {
      "text/html": [
       "<div>\n",
       "<style scoped>\n",
       "    .dataframe tbody tr th:only-of-type {\n",
       "        vertical-align: middle;\n",
       "    }\n",
       "\n",
       "    .dataframe tbody tr th {\n",
       "        vertical-align: top;\n",
       "    }\n",
       "\n",
       "    .dataframe thead th {\n",
       "        text-align: right;\n",
       "    }\n",
       "</style>\n",
       "<table border=\"1\" class=\"dataframe\">\n",
       "  <thead>\n",
       "    <tr style=\"text-align: right;\">\n",
       "      <th></th>\n",
       "      <th>0</th>\n",
       "      <th>1</th>\n",
       "    </tr>\n",
       "  </thead>\n",
       "  <tbody>\n",
       "    <tr>\n",
       "      <th>0</th>\n",
       "      <td>negative</td>\n",
       "      <td>!</td>\n",
       "    </tr>\n",
       "    <tr>\n",
       "      <th>1</th>\n",
       "      <td>negative</td>\n",
       "      <td>! 다 녹 아서 왓 어요 . . 짜증</td>\n",
       "    </tr>\n",
       "    <tr>\n",
       "      <th>2</th>\n",
       "      <td>negative</td>\n",
       "      <td>!!!!!!!!!!!!!</td>\n",
       "    </tr>\n",
       "    <tr>\n",
       "      <th>3</th>\n",
       "      <td>negative</td>\n",
       "      <td>!!!! 이게 뭐 야 ? 진짜 이게 뭐 야 ? 리뷰 보고 구매 했 는데 ! 나원참 !</td>\n",
       "    </tr>\n",
       "    <tr>\n",
       "      <th>4</th>\n",
       "      <td>negative</td>\n",
       "      <td>싼 게 비지떡 . 200 ml 라고 판매 하 는데 내 가 보 기 엔 절대 이거 10...</td>\n",
       "    </tr>\n",
       "    <tr>\n",
       "      <th>...</th>\n",
       "      <td>...</td>\n",
       "      <td>...</td>\n",
       "    </tr>\n",
       "    <tr>\n",
       "      <th>302673</th>\n",
       "      <td>positive</td>\n",
       "      <td>만족 이 에요 ㅇㅇ ㅇㅇ ㅇㅇ ㅇㅇ ㅇㅇ ㅇㅇ ㅇㅇ ㅇㅇ ㅇㅇ ㅇㅇ ㅇㅇ ㅇㅇ ㅇㅇ...</td>\n",
       "    </tr>\n",
       "    <tr>\n",
       "      <th>302674</th>\n",
       "      <td>positive</td>\n",
       "      <td>좋 아요 좋 아요 좋 아요 좋 아요 좋 아요 좋 아요 좋 아요 좋 아요 좋 아요 좋...</td>\n",
       "    </tr>\n",
       "    <tr>\n",
       "      <th>302675</th>\n",
       "      <td>positive</td>\n",
       "      <td>굿 굿 굿 굿 굿 굿 굿 굿 굿 굿 굿 굿 굿 굿 굿 굿 굿 굿 굿 굿 굿 굿 굿 ...</td>\n",
       "    </tr>\n",
       "    <tr>\n",
       "      <th>302676</th>\n",
       "      <td>positive</td>\n",
       "      <td>무 좋 습니다 너무 좋 습니다 너무 좋 습니다 너무 좋 습니다 너무 좋 습니다 너무...</td>\n",
       "    </tr>\n",
       "    <tr>\n",
       "      <th>302677</th>\n",
       "      <td>positive</td>\n",
       "      <td>베이 굿 입니다 ㅇㅇ ㅇㅇ ㅇㅇ ㅇㅇ ㅇㅇ ㅇㅇ ㅇㅇ ㅇㅇ ㅇㅇ ㅇㅇ ㅇㅇ ㅇㅇ ㅇ...</td>\n",
       "    </tr>\n",
       "  </tbody>\n",
       "</table>\n",
       "<p>302678 rows × 2 columns</p>\n",
       "</div>"
      ],
      "text/plain": [
       "               0                                                  1\n",
       "0       negative                                                 ! \n",
       "1       negative                              ! 다 녹 아서 왓 어요 . . 짜증 \n",
       "2       negative                                     !!!!!!!!!!!!! \n",
       "3       negative   !!!! 이게 뭐 야 ? 진짜 이게 뭐 야 ? 리뷰 보고 구매 했 는데 ! 나원참 ! \n",
       "4       negative  싼 게 비지떡 . 200 ml 라고 판매 하 는데 내 가 보 기 엔 절대 이거 10...\n",
       "...          ...                                                ...\n",
       "302673  positive  만족 이 에요 ㅇㅇ ㅇㅇ ㅇㅇ ㅇㅇ ㅇㅇ ㅇㅇ ㅇㅇ ㅇㅇ ㅇㅇ ㅇㅇ ㅇㅇ ㅇㅇ ㅇㅇ...\n",
       "302674  positive  좋 아요 좋 아요 좋 아요 좋 아요 좋 아요 좋 아요 좋 아요 좋 아요 좋 아요 좋...\n",
       "302675  positive  굿 굿 굿 굿 굿 굿 굿 굿 굿 굿 굿 굿 굿 굿 굿 굿 굿 굿 굿 굿 굿 굿 굿 ...\n",
       "302676  positive  무 좋 습니다 너무 좋 습니다 너무 좋 습니다 너무 좋 습니다 너무 좋 습니다 너무...\n",
       "302677  positive  베이 굿 입니다 ㅇㅇ ㅇㅇ ㅇㅇ ㅇㅇ ㅇㅇ ㅇㅇ ㅇㅇ ㅇㅇ ㅇㅇ ㅇㅇ ㅇㅇ ㅇㅇ ㅇ...\n",
       "\n",
       "[302678 rows x 2 columns]"
      ]
     },
     "execution_count": 16,
     "metadata": {},
     "output_type": "execute_result"
    }
   ],
   "source": [
    "dataset"
   ]
  },
  {
   "cell_type": "code",
   "execution_count": 29,
   "metadata": {},
   "outputs": [],
   "source": [
    "dataset.to_csv('review.sorted.uniq.refined.tok.tsv', index=False, header=None, sep=\"\\t\")"
   ]
  }
 ],
 "metadata": {
  "kernelspec": {
   "display_name": "Python 3",
   "language": "python",
   "name": "python3"
  },
  "language_info": {
   "codemirror_mode": {
    "name": "ipython",
    "version": 3
   },
   "file_extension": ".py",
   "mimetype": "text/x-python",
   "name": "python",
   "nbconvert_exporter": "python",
   "pygments_lexer": "ipython3",
   "version": "3.7.9"
  }
 },
 "nbformat": 4,
 "nbformat_minor": 4
}
