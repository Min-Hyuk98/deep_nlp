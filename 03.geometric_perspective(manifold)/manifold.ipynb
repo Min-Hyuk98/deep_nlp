{
 "cells": [
  {
   "cell_type": "code",
   "execution_count": 1,
   "metadata": {},
   "outputs": [],
   "source": [
    "import numpy as np\n",
    "import matplotlib.pyplot as plt"
   ]
  },
  {
   "cell_type": "code",
   "execution_count": 2,
   "metadata": {},
   "outputs": [],
   "source": [
    "import torch\n",
    "import torch.nn as nn\n",
    "import torch.optim as optim"
   ]
  },
  {
   "cell_type": "code",
   "execution_count": 3,
   "metadata": {},
   "outputs": [],
   "source": [
    "from utils import load_mnist\n",
    "from trainer import Trainer"
   ]
  },
  {
   "cell_type": "code",
   "execution_count": 4,
   "metadata": {},
   "outputs": [],
   "source": [
    "def show_image(x):\n",
    "    if x.dim() == 1:\n",
    "        x = x.view(int(x.size(0) ** .5), -1)\n",
    "    \n",
    "    plt.imshow(x, cmap='gray')\n",
    "    plt.show()"
   ]
  },
  {
   "cell_type": "code",
   "execution_count": 5,
   "metadata": {},
   "outputs": [
    {
     "name": "stdout",
     "output_type": "stream",
     "text": [
      "Namespace(batch_size=256, btl_size=2, n_epochs=50, train_ratio=0.8, verbose=1)\n"
     ]
    }
   ],
   "source": [
    "from argparse import Namespace\n",
    "\n",
    "config = {\n",
    "    'train_ratio': .8,\n",
    "    'batch_size': 256,\n",
    "    'n_epochs': 50,\n",
    "    'verbose': 1,\n",
    "    'btl_size': 2\n",
    "}\n",
    "\n",
    "config = Namespace(**config)\n",
    "\n",
    "print(config)"
   ]
  },
  {
   "cell_type": "code",
   "execution_count": 6,
   "metadata": {},
   "outputs": [
    {
     "name": "stdout",
     "output_type": "stream",
     "text": [
      "Train: torch.Size([48000, 784]) torch.Size([48000])\n",
      "Valid: torch.Size([12000, 784]) torch.Size([12000])\n",
      "Test: torch.Size([10000, 784]) torch.Size([10000])\n"
     ]
    }
   ],
   "source": [
    "train_x, train_y = load_mnist(flatten=True)\n",
    "test_x, test_y = load_mnist(is_train=False, flatten=True)\n",
    "\n",
    "train_cnt = int(train_x.size(0) * config.train_ratio)\n",
    "valid_cnt = train_x.size(0) - train_cnt\n",
    "\n",
    "# Shuffle dataset to split into train/valid set.\n",
    "indices = torch.randperm(train_x.size(0))\n",
    "train_x, valid_x = torch.index_select(\n",
    "    train_x,\n",
    "    dim=0,\n",
    "    index=indices\n",
    ").split([train_cnt, valid_cnt], dim=0)\n",
    "train_y, valid_y = torch.index_select(\n",
    "    train_y,\n",
    "    dim=0,\n",
    "    index=indices\n",
    ").split([train_cnt, valid_cnt], dim=0)\n",
    "\n",
    "print(\"Train:\", train_x.shape, train_y.shape)\n",
    "print(\"Valid:\", valid_x.shape, valid_y.shape)\n",
    "print(\"Test:\", test_x.shape, test_y.shape)"
   ]
  },
  {
   "cell_type": "code",
   "execution_count": 7,
   "metadata": {},
   "outputs": [],
   "source": [
    "from model import Autoencoder"
   ]
  },
  {
   "cell_type": "code",
   "execution_count": 8,
   "metadata": {},
   "outputs": [],
   "source": [
    "model = Autoencoder(btl_size=config.btl_size)\n",
    "optimizer = optim.Adam(model.parameters())\n",
    "crit = nn.MSELoss()\n",
    "\n",
    "trainer = Trainer(model, optimizer, crit)"
   ]
  },
  {
   "cell_type": "code",
   "execution_count": 9,
   "metadata": {
    "scrolled": true
   },
   "outputs": [
    {
     "name": "stdout",
     "output_type": "stream",
     "text": [
      "Epoch(1/50): train_loss=7.3180e-02  valid_loss=5.0347e-02  lowest_loss=5.0347e-02\n",
      "Epoch(2/50): train_loss=4.8015e-02  valid_loss=4.5496e-02  lowest_loss=4.5496e-02\n",
      "Epoch(3/50): train_loss=4.5568e-02  valid_loss=4.3682e-02  lowest_loss=4.3682e-02\n",
      "Epoch(4/50): train_loss=4.4100e-02  valid_loss=4.2631e-02  lowest_loss=4.2631e-02\n",
      "Epoch(5/50): train_loss=4.3178e-02  valid_loss=4.2010e-02  lowest_loss=4.2010e-02\n",
      "Epoch(6/50): train_loss=4.2546e-02  valid_loss=4.1128e-02  lowest_loss=4.1128e-02\n",
      "Epoch(7/50): train_loss=4.1789e-02  valid_loss=4.0698e-02  lowest_loss=4.0698e-02\n",
      "Epoch(8/50): train_loss=4.1641e-02  valid_loss=3.9452e-02  lowest_loss=3.9452e-02\n",
      "Epoch(9/50): train_loss=4.1017e-02  valid_loss=3.9601e-02  lowest_loss=3.9452e-02\n",
      "Epoch(10/50): train_loss=4.0651e-02  valid_loss=3.9805e-02  lowest_loss=3.9452e-02\n",
      "Epoch(11/50): train_loss=4.0526e-02  valid_loss=3.9595e-02  lowest_loss=3.9452e-02\n",
      "Epoch(12/50): train_loss=4.0100e-02  valid_loss=3.8667e-02  lowest_loss=3.8667e-02\n",
      "Epoch(13/50): train_loss=3.9824e-02  valid_loss=3.9643e-02  lowest_loss=3.8667e-02\n",
      "Epoch(14/50): train_loss=3.9720e-02  valid_loss=3.8436e-02  lowest_loss=3.8436e-02\n",
      "Epoch(15/50): train_loss=3.9839e-02  valid_loss=3.8761e-02  lowest_loss=3.8436e-02\n",
      "Epoch(16/50): train_loss=4.0242e-02  valid_loss=3.7831e-02  lowest_loss=3.7831e-02\n",
      "Epoch(17/50): train_loss=3.9275e-02  valid_loss=3.7666e-02  lowest_loss=3.7666e-02\n",
      "Epoch(18/50): train_loss=3.9144e-02  valid_loss=3.7726e-02  lowest_loss=3.7666e-02\n",
      "Epoch(19/50): train_loss=3.8703e-02  valid_loss=3.7157e-02  lowest_loss=3.7157e-02\n",
      "Epoch(20/50): train_loss=3.8757e-02  valid_loss=3.7375e-02  lowest_loss=3.7157e-02\n",
      "Epoch(21/50): train_loss=3.8637e-02  valid_loss=3.7246e-02  lowest_loss=3.7157e-02\n",
      "Epoch(22/50): train_loss=3.8539e-02  valid_loss=3.6893e-02  lowest_loss=3.6893e-02\n",
      "Epoch(23/50): train_loss=3.8371e-02  valid_loss=3.6897e-02  lowest_loss=3.6893e-02\n",
      "Epoch(24/50): train_loss=3.8407e-02  valid_loss=3.7146e-02  lowest_loss=3.6893e-02\n",
      "Epoch(25/50): train_loss=3.8165e-02  valid_loss=3.7862e-02  lowest_loss=3.6893e-02\n",
      "Epoch(26/50): train_loss=3.8379e-02  valid_loss=3.6529e-02  lowest_loss=3.6529e-02\n",
      "Epoch(27/50): train_loss=3.7948e-02  valid_loss=3.6548e-02  lowest_loss=3.6529e-02\n",
      "Epoch(28/50): train_loss=3.7739e-02  valid_loss=3.6314e-02  lowest_loss=3.6314e-02\n",
      "Epoch(29/50): train_loss=3.7800e-02  valid_loss=3.6243e-02  lowest_loss=3.6243e-02\n",
      "Epoch(30/50): train_loss=3.7351e-02  valid_loss=3.5967e-02  lowest_loss=3.5967e-02\n",
      "Epoch(31/50): train_loss=3.7360e-02  valid_loss=3.6373e-02  lowest_loss=3.5967e-02\n",
      "Epoch(32/50): train_loss=3.7259e-02  valid_loss=3.5650e-02  lowest_loss=3.5650e-02\n",
      "Epoch(33/50): train_loss=3.7538e-02  valid_loss=3.6620e-02  lowest_loss=3.5650e-02\n",
      "Epoch(34/50): train_loss=3.8417e-02  valid_loss=3.7827e-02  lowest_loss=3.5650e-02\n",
      "Epoch(35/50): train_loss=3.8109e-02  valid_loss=3.6152e-02  lowest_loss=3.5650e-02\n",
      "Epoch(36/50): train_loss=3.7720e-02  valid_loss=3.6431e-02  lowest_loss=3.5650e-02\n",
      "Epoch(37/50): train_loss=3.7745e-02  valid_loss=3.6203e-02  lowest_loss=3.5650e-02\n",
      "Epoch(38/50): train_loss=3.7491e-02  valid_loss=3.5942e-02  lowest_loss=3.5650e-02\n",
      "Epoch(39/50): train_loss=3.7291e-02  valid_loss=3.5735e-02  lowest_loss=3.5650e-02\n",
      "Epoch(40/50): train_loss=3.7165e-02  valid_loss=3.6096e-02  lowest_loss=3.5650e-02\n",
      "Epoch(41/50): train_loss=3.7079e-02  valid_loss=3.5706e-02  lowest_loss=3.5650e-02\n",
      "Epoch(42/50): train_loss=3.6975e-02  valid_loss=3.5557e-02  lowest_loss=3.5557e-02\n",
      "Epoch(43/50): train_loss=3.6768e-02  valid_loss=3.5732e-02  lowest_loss=3.5557e-02\n",
      "Epoch(44/50): train_loss=3.6726e-02  valid_loss=3.5365e-02  lowest_loss=3.5365e-02\n",
      "Epoch(45/50): train_loss=3.6424e-02  valid_loss=3.5627e-02  lowest_loss=3.5365e-02\n",
      "Epoch(46/50): train_loss=3.6709e-02  valid_loss=3.5309e-02  lowest_loss=3.5309e-02\n",
      "Epoch(47/50): train_loss=3.6559e-02  valid_loss=3.5115e-02  lowest_loss=3.5115e-02\n",
      "Epoch(48/50): train_loss=3.6458e-02  valid_loss=3.5001e-02  lowest_loss=3.5001e-02\n",
      "Epoch(49/50): train_loss=3.6142e-02  valid_loss=3.4935e-02  lowest_loss=3.4935e-02\n",
      "Epoch(50/50): train_loss=3.6135e-02  valid_loss=3.5017e-02  lowest_loss=3.4935e-02\n"
     ]
    }
   ],
   "source": [
    "trainer.train((train_x, train_x), (valid_x, valid_x), config)"
   ]
  },
  {
   "cell_type": "markdown",
   "metadata": {},
   "source": [
    "## Mean value in each space"
   ]
  },
  {
   "cell_type": "code",
   "execution_count": 10,
   "metadata": {},
   "outputs": [
    {
     "data": {
      "image/png": "[encoded data removed]",
      "text/plain": [
       "<Figure size 432x288 with 1 Axes>"
      ]
     },
     "metadata": {
      "needs_background": "light"
     },
     "output_type": "display_data"
    },
    {
     "data": {
      "image/png": "[encoded data removed]",
      "text/plain": [
       "<Figure size 432x288 with 1 Axes>"
      ]
     },
     "metadata": {
      "needs_background": "light"
     },
     "output_type": "display_data"
    },
    {
     "data": {
      "image/png": "[encoded data removed]",
      "text/plain": [
       "<Figure size 432x288 with 1 Axes>"
      ]
     },
     "metadata": {
      "needs_background": "light"
     },
     "output_type": "display_data"
    },
    {
     "data": {
      "image/png": "[encoded data removed]",
      "text/plain": [
       "<Figure size 432x288 with 1 Axes>"
      ]
     },
     "metadata": {
      "needs_background": "light"
     },
     "output_type": "display_data"
    }
   ],
   "source": [
    "with torch.no_grad():\n",
    "    import random\n",
    "\n",
    "    index1 = int(random.random() * test_x.size(0))\n",
    "    index2 = int(random.random() * test_x.size(0))\n",
    "    \n",
    "    z1 = model.encoder(test_x[index1].view(1, -1))\n",
    "    z2 = model.encoder(test_x[index2].view(1, -1))\n",
    "\n",
    "    recon = model.decoder((z1 + z2) / 2).squeeze()\n",
    "\n",
    "    show_image(test_x[index1])\n",
    "    show_image(test_x[index2])\n",
    "    show_image((test_x[index1] + test_x[index2]) / 2)\n",
    "    show_image(recon)"
   ]
  },
  {
   "cell_type": "code",
   "execution_count": null,
   "metadata": {},
   "outputs": [],
   "source": []
  }
 ],
 "metadata": {
  "kernelspec": {
   "display_name": "Python 3",
   "language": "python",
   "name": "python3"
  },
  "language_info": {
   "codemirror_mode": {
    "name": "ipython",
    "version": 3
   },
   "file_extension": ".py",
   "mimetype": "text/x-python",
   "name": "python",
   "nbconvert_exporter": "python",
   "pygments_lexer": "ipython3",
   "version": "3.7.9"
  }
 },
 "nbformat": 4,
 "nbformat_minor": 4
}
